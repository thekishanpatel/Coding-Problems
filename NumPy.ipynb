{
  "nbformat": 4,
  "nbformat_minor": 0,
  "metadata": {
    "colab": {
      "name": "NumPy.ipynb",
      "provenance": [],
      "authorship_tag": "ABX9TyMWmyvFwrz9mAosKeJ8pl0H",
      "include_colab_link": true
    },
    "kernelspec": {
      "name": "python3",
      "display_name": "Python 3"
    }
  },
  "cells": [
    {
      "cell_type": "markdown",
      "metadata": {
        "id": "view-in-github",
        "colab_type": "text"
      },
      "source": [
        "<a href=\"https://colab.research.google.com/github/thekishanpatel/Coding-Problems/blob/master/NumPy.ipynb\" target=\"_parent\"><img src=\"https://colab.research.google.com/assets/colab-badge.svg\" alt=\"Open In Colab\"/></a>"
      ]
    },
    {
      "cell_type": "markdown",
      "metadata": {
        "id": "nrTP5FhVw5ph",
        "colab_type": "text"
      },
      "source": [
        "# **Import NumPy**\n",
        "Its a numerical library used for working with mathematical functions with multi-dimensional arrays and data-structures. \n",
        "\n",
        "\n",
        "Use less memory than normal python lists which use type pointers. \n",
        "Numpy array is designed to be an array of uniform values, without using space for type pointers."
      ]
    },
    {
      "cell_type": "code",
      "metadata": {
        "id": "po2iSKWRw1PY",
        "colab_type": "code",
        "colab": {}
      },
      "source": [
        "import numpy as np"
      ],
      "execution_count": 0,
      "outputs": []
    },
    {
      "cell_type": "markdown",
      "metadata": {
        "id": "TwkEThzJxC6p",
        "colab_type": "text"
      },
      "source": [
        "# **Map Python lists to NumPy Arrays**"
      ]
    },
    {
      "cell_type": "code",
      "metadata": {
        "id": "IQr-OBUvxBXe",
        "colab_type": "code",
        "colab": {}
      },
      "source": [
        "x = [1,2,3]"
      ],
      "execution_count": 0,
      "outputs": []
    },
    {
      "cell_type": "code",
      "metadata": {
        "id": "VBxpILaeyLcD",
        "colab_type": "code",
        "outputId": "bbae453f-93b9-4cb5-e425-ac96df5236ce",
        "colab": {
          "base_uri": "https://localhost:8080/",
          "height": 34
        }
      },
      "source": [
        "np.array(x)"
      ],
      "execution_count": 3,
      "outputs": [
        {
          "output_type": "execute_result",
          "data": {
            "text/plain": [
              "array([1, 2, 3])"
            ]
          },
          "metadata": {
            "tags": []
          },
          "execution_count": 3
        }
      ]
    },
    {
      "cell_type": "code",
      "metadata": {
        "id": "Xft2Zd9fyNAY",
        "colab_type": "code",
        "colab": {}
      },
      "source": [
        "x_nest =  [[1,2], [3,4], [5,6]]"
      ],
      "execution_count": 0,
      "outputs": []
    },
    {
      "cell_type": "code",
      "metadata": {
        "id": "8zH380fQyVXO",
        "colab_type": "code",
        "outputId": "1676e6c1-99aa-402d-9803-d2cffbf06cde",
        "colab": {
          "base_uri": "https://localhost:8080/",
          "height": 34
        }
      },
      "source": [
        "x_nest"
      ],
      "execution_count": 5,
      "outputs": [
        {
          "output_type": "execute_result",
          "data": {
            "text/plain": [
              "[[1, 2], [3, 4], [5, 6]]"
            ]
          },
          "metadata": {
            "tags": []
          },
          "execution_count": 5
        }
      ]
    },
    {
      "cell_type": "code",
      "metadata": {
        "id": "YQrilOdmyY8S",
        "colab_type": "code",
        "outputId": "03fc9cc3-6a2a-4a6d-8fba-dbdfd2007c36",
        "colab": {
          "base_uri": "https://localhost:8080/",
          "height": 67
        }
      },
      "source": [
        "np.array(x_nest)"
      ],
      "execution_count": 6,
      "outputs": [
        {
          "output_type": "execute_result",
          "data": {
            "text/plain": [
              "array([[1, 2],\n",
              "       [3, 4],\n",
              "       [5, 6]])"
            ]
          },
          "metadata": {
            "tags": []
          },
          "execution_count": 6
        }
      ]
    },
    {
      "cell_type": "markdown",
      "metadata": {
        "id": "uCXdGorhyk1v",
        "colab_type": "text"
      },
      "source": [
        "# **Creating NumPy Arrays**"
      ]
    },
    {
      "cell_type": "code",
      "metadata": {
        "id": "12xe0oZUya1c",
        "colab_type": "code",
        "outputId": "a845a26f-77b4-4247-e053-b98e97c52b1d",
        "colab": {
          "base_uri": "https://localhost:8080/",
          "height": 34
        }
      },
      "source": [
        "np.arange(0,10)"
      ],
      "execution_count": 7,
      "outputs": [
        {
          "output_type": "execute_result",
          "data": {
            "text/plain": [
              "array([0, 1, 2, 3, 4, 5, 6, 7, 8, 9])"
            ]
          },
          "metadata": {
            "tags": []
          },
          "execution_count": 7
        }
      ]
    },
    {
      "cell_type": "code",
      "metadata": {
        "id": "Y0MaLDu5ytsu",
        "colab_type": "code",
        "outputId": "4b77ad97-4fdd-41d7-f263-f85e287ba474",
        "colab": {
          "base_uri": "https://localhost:8080/",
          "height": 34
        }
      },
      "source": [
        "np.arange(0,10,2)"
      ],
      "execution_count": 8,
      "outputs": [
        {
          "output_type": "execute_result",
          "data": {
            "text/plain": [
              "array([0, 2, 4, 6, 8])"
            ]
          },
          "metadata": {
            "tags": []
          },
          "execution_count": 8
        }
      ]
    },
    {
      "cell_type": "code",
      "metadata": {
        "id": "0dcKUF1Lyz6I",
        "colab_type": "code",
        "outputId": "f3136279-016f-4e05-af52-f5ae2c362143",
        "colab": {
          "base_uri": "https://localhost:8080/",
          "height": 34
        }
      },
      "source": [
        "np.arange(0,11,2)"
      ],
      "execution_count": 9,
      "outputs": [
        {
          "output_type": "execute_result",
          "data": {
            "text/plain": [
              "array([ 0,  2,  4,  6,  8, 10])"
            ]
          },
          "metadata": {
            "tags": []
          },
          "execution_count": 9
        }
      ]
    },
    {
      "cell_type": "code",
      "metadata": {
        "id": "DvhHmhjey2VH",
        "colab_type": "code",
        "outputId": "66fe10ac-e936-4b1b-fd42-3608daff84e4",
        "colab": {
          "base_uri": "https://localhost:8080/",
          "height": 34
        }
      },
      "source": [
        "np.zeros(3) # Note the 0s are floating points"
      ],
      "execution_count": 10,
      "outputs": [
        {
          "output_type": "execute_result",
          "data": {
            "text/plain": [
              "array([0., 0., 0.])"
            ]
          },
          "metadata": {
            "tags": []
          },
          "execution_count": 10
        }
      ]
    },
    {
      "cell_type": "code",
      "metadata": {
        "id": "Vv0fT2B1y5qL",
        "colab_type": "code",
        "outputId": "acf0b72f-0bc8-490a-e4cc-8700706270d0",
        "colab": {
          "base_uri": "https://localhost:8080/",
          "height": 84
        }
      },
      "source": [
        "np.zeros((4,4), dtype = 'int') # Can Pass Shape"
      ],
      "execution_count": 11,
      "outputs": [
        {
          "output_type": "execute_result",
          "data": {
            "text/plain": [
              "array([[0, 0, 0, 0],\n",
              "       [0, 0, 0, 0],\n",
              "       [0, 0, 0, 0],\n",
              "       [0, 0, 0, 0]])"
            ]
          },
          "metadata": {
            "tags": []
          },
          "execution_count": 11
        }
      ]
    },
    {
      "cell_type": "code",
      "metadata": {
        "id": "67otR4eKzIfk",
        "colab_type": "code",
        "outputId": "762b628b-ffe9-4ce7-bd9e-ea1bbee5edbb",
        "colab": {
          "base_uri": "https://localhost:8080/",
          "height": 67
        }
      },
      "source": [
        "np.ones((3,5))"
      ],
      "execution_count": 12,
      "outputs": [
        {
          "output_type": "execute_result",
          "data": {
            "text/plain": [
              "array([[1., 1., 1., 1., 1.],\n",
              "       [1., 1., 1., 1., 1.],\n",
              "       [1., 1., 1., 1., 1.]])"
            ]
          },
          "metadata": {
            "tags": []
          },
          "execution_count": 12
        }
      ]
    },
    {
      "cell_type": "code",
      "metadata": {
        "id": "pBUfn3LozSg-",
        "colab_type": "code",
        "outputId": "a546c984-122c-42df-e8ff-f4fb6c498158",
        "colab": {
          "base_uri": "https://localhost:8080/",
          "height": 34
        }
      },
      "source": [
        "np.linspace(0,100,3)"
      ],
      "execution_count": 13,
      "outputs": [
        {
          "output_type": "execute_result",
          "data": {
            "text/plain": [
              "array([  0.,  50., 100.])"
            ]
          },
          "metadata": {
            "tags": []
          },
          "execution_count": 13
        }
      ]
    },
    {
      "cell_type": "code",
      "metadata": {
        "id": "8R6TP9BBzijm",
        "colab_type": "code",
        "outputId": "f4ae4e6d-a119-4c90-8b4a-6fd437a15b51",
        "colab": {
          "base_uri": "https://localhost:8080/",
          "height": 34
        }
      },
      "source": [
        "np.linspace(10,50,10, dtype = 'int') # Includes stopping Points"
      ],
      "execution_count": 14,
      "outputs": [
        {
          "output_type": "execute_result",
          "data": {
            "text/plain": [
              "array([10, 14, 18, 23, 27, 32, 36, 41, 45, 50])"
            ]
          },
          "metadata": {
            "tags": []
          },
          "execution_count": 14
        }
      ]
    },
    {
      "cell_type": "markdown",
      "metadata": {
        "id": "1VbmNEsG0Avt",
        "colab_type": "text"
      },
      "source": [
        "## **Identity Matrix**"
      ]
    },
    {
      "cell_type": "code",
      "metadata": {
        "id": "sQcrBddWzvRn",
        "colab_type": "code",
        "outputId": "aafaf287-9e50-40da-a1bb-0b89cdc997f7",
        "colab": {
          "base_uri": "https://localhost:8080/",
          "height": 0
        }
      },
      "source": [
        "np.eye(10, dtype = 'int')"
      ],
      "execution_count": 15,
      "outputs": [
        {
          "output_type": "execute_result",
          "data": {
            "text/plain": [
              "array([[1, 0, 0, 0, 0, 0, 0, 0, 0, 0],\n",
              "       [0, 1, 0, 0, 0, 0, 0, 0, 0, 0],\n",
              "       [0, 0, 1, 0, 0, 0, 0, 0, 0, 0],\n",
              "       [0, 0, 0, 1, 0, 0, 0, 0, 0, 0],\n",
              "       [0, 0, 0, 0, 1, 0, 0, 0, 0, 0],\n",
              "       [0, 0, 0, 0, 0, 1, 0, 0, 0, 0],\n",
              "       [0, 0, 0, 0, 0, 0, 1, 0, 0, 0],\n",
              "       [0, 0, 0, 0, 0, 0, 0, 1, 0, 0],\n",
              "       [0, 0, 0, 0, 0, 0, 0, 0, 1, 0],\n",
              "       [0, 0, 0, 0, 0, 0, 0, 0, 0, 1]])"
            ]
          },
          "metadata": {
            "tags": []
          },
          "execution_count": 15
        }
      ]
    },
    {
      "cell_type": "markdown",
      "metadata": {
        "id": "hR_W-Qn90SLL",
        "colab_type": "text"
      },
      "source": [
        "## **Creating Random Arrays**"
      ]
    },
    {
      "cell_type": "code",
      "metadata": {
        "id": "aloBWecj0LgP",
        "colab_type": "code",
        "outputId": "01750152-c362-4a94-bf12-11a9bd98efaa",
        "colab": {
          "base_uri": "https://localhost:8080/",
          "height": 0
        }
      },
      "source": [
        "np.random.rand(10) # Uniform distribution between 0 and 1"
      ],
      "execution_count": 16,
      "outputs": [
        {
          "output_type": "execute_result",
          "data": {
            "text/plain": [
              "array([0.19419405, 0.35085457, 0.25827057, 0.97830774, 0.05926681,\n",
              "       0.49143616, 0.07775695, 0.51447264, 0.16721218, 0.2689628 ])"
            ]
          },
          "metadata": {
            "tags": []
          },
          "execution_count": 16
        }
      ]
    },
    {
      "cell_type": "code",
      "metadata": {
        "id": "TaSsl8pq0gO_",
        "colab_type": "code",
        "outputId": "0614188e-7c35-4c59-f138-579346ecdf9b",
        "colab": {
          "base_uri": "https://localhost:8080/",
          "height": 0
        }
      },
      "source": [
        "np.random.rand(4,4) # Array Like"
      ],
      "execution_count": 17,
      "outputs": [
        {
          "output_type": "execute_result",
          "data": {
            "text/plain": [
              "array([[0.08034954, 0.41960349, 0.21964494, 0.17213744],\n",
              "       [0.82973664, 0.43841052, 0.34553712, 0.95769429],\n",
              "       [0.78601829, 0.89255979, 0.29633713, 0.01457961],\n",
              "       [0.30901537, 0.65506751, 0.22683111, 0.80559495]])"
            ]
          },
          "metadata": {
            "tags": []
          },
          "execution_count": 17
        }
      ]
    },
    {
      "cell_type": "code",
      "metadata": {
        "id": "_lmirpC80oCp",
        "colab_type": "code",
        "outputId": "91d3395d-b98a-4d73-c9cd-cbe9968e4711",
        "colab": {
          "base_uri": "https://localhost:8080/",
          "height": 0
        }
      },
      "source": [
        "np.random.randn(5,5) # Standard Distribution"
      ],
      "execution_count": 18,
      "outputs": [
        {
          "output_type": "execute_result",
          "data": {
            "text/plain": [
              "array([[-2.01933317,  0.26156485, -0.05911494,  1.84566328, -0.7199978 ],\n",
              "       [ 0.69856638, -0.3545791 ,  0.77449581,  1.22550959, -1.03795497],\n",
              "       [ 1.01166883,  2.18499424,  1.16575572, -1.53481732, -1.06548654],\n",
              "       [ 1.71427263,  2.19654197, -1.23929406, -2.23359714,  0.29291741],\n",
              "       [-0.64076486,  1.37324032,  0.85165526,  1.11767871, -0.51028924]])"
            ]
          },
          "metadata": {
            "tags": []
          },
          "execution_count": 18
        }
      ]
    },
    {
      "cell_type": "code",
      "metadata": {
        "id": "1orh7PO50wXB",
        "colab_type": "code",
        "outputId": "6c6409ae-db47-4540-d29a-9c027625919e",
        "colab": {
          "base_uri": "https://localhost:8080/",
          "height": 0
        }
      },
      "source": [
        "np.random.randint(0, 10)"
      ],
      "execution_count": 19,
      "outputs": [
        {
          "output_type": "execute_result",
          "data": {
            "text/plain": [
              "7"
            ]
          },
          "metadata": {
            "tags": []
          },
          "execution_count": 19
        }
      ]
    },
    {
      "cell_type": "code",
      "metadata": {
        "id": "GNWptb1F03tl",
        "colab_type": "code",
        "outputId": "922c2564-4802-4f85-eea7-609bdc941110",
        "colab": {
          "base_uri": "https://localhost:8080/",
          "height": 0
        }
      },
      "source": [
        "np.random.randint(1, 100, 10)"
      ],
      "execution_count": 20,
      "outputs": [
        {
          "output_type": "execute_result",
          "data": {
            "text/plain": [
              "array([99, 80, 47, 73, 55, 33, 61, 47, 88, 42])"
            ]
          },
          "metadata": {
            "tags": []
          },
          "execution_count": 20
        }
      ]
    },
    {
      "cell_type": "code",
      "metadata": {
        "id": "qfnV3UIw096Q",
        "colab_type": "code",
        "outputId": "beb366b8-de31-4141-ee74-26ed19da98d0",
        "colab": {
          "base_uri": "https://localhost:8080/",
          "height": 0
        }
      },
      "source": [
        "np.random.randint(1, 100, (4,4))"
      ],
      "execution_count": 21,
      "outputs": [
        {
          "output_type": "execute_result",
          "data": {
            "text/plain": [
              "array([[ 5, 90,  2, 86],\n",
              "       [34, 13, 78, 89],\n",
              "       [ 5, 90, 77, 96],\n",
              "       [66, 61, 35, 86]])"
            ]
          },
          "metadata": {
            "tags": []
          },
          "execution_count": 21
        }
      ]
    },
    {
      "cell_type": "code",
      "metadata": {
        "id": "QYi_UFkx1Dlf",
        "colab_type": "code",
        "outputId": "6223c649-eafe-407d-e117-3ca55085e324",
        "colab": {
          "base_uri": "https://localhost:8080/",
          "height": 0
        }
      },
      "source": [
        "np.random.seed(42) # For Reproducibility\n",
        "np.random.rand(4)"
      ],
      "execution_count": 22,
      "outputs": [
        {
          "output_type": "execute_result",
          "data": {
            "text/plain": [
              "array([0.37454012, 0.95071431, 0.73199394, 0.59865848])"
            ]
          },
          "metadata": {
            "tags": []
          },
          "execution_count": 22
        }
      ]
    },
    {
      "cell_type": "markdown",
      "metadata": {
        "id": "HKzNmfjM199f",
        "colab_type": "text"
      },
      "source": [
        "# **Array Attributes**"
      ]
    },
    {
      "cell_type": "code",
      "metadata": {
        "id": "85v-pwd51Nwt",
        "colab_type": "code",
        "colab": {}
      },
      "source": [
        "x = np.arange(25)"
      ],
      "execution_count": 0,
      "outputs": []
    },
    {
      "cell_type": "code",
      "metadata": {
        "id": "AgNYWZq42B21",
        "colab_type": "code",
        "colab": {}
      },
      "source": [
        "y = np.random.randint(0, 50, 10)"
      ],
      "execution_count": 0,
      "outputs": []
    },
    {
      "cell_type": "code",
      "metadata": {
        "id": "FPDpfMwF2CS2",
        "colab_type": "code",
        "outputId": "fc99e6d0-ad11-4427-fdff-da779922d0a0",
        "colab": {
          "base_uri": "https://localhost:8080/",
          "height": 0
        }
      },
      "source": [
        "x"
      ],
      "execution_count": 25,
      "outputs": [
        {
          "output_type": "execute_result",
          "data": {
            "text/plain": [
              "array([ 0,  1,  2,  3,  4,  5,  6,  7,  8,  9, 10, 11, 12, 13, 14, 15, 16,\n",
              "       17, 18, 19, 20, 21, 22, 23, 24])"
            ]
          },
          "metadata": {
            "tags": []
          },
          "execution_count": 25
        }
      ]
    },
    {
      "cell_type": "code",
      "metadata": {
        "id": "HMZYIo1W2Jhk",
        "colab_type": "code",
        "outputId": "11ffd386-ff4b-48e4-adfc-bc5bd724ce40",
        "colab": {
          "base_uri": "https://localhost:8080/",
          "height": 0
        }
      },
      "source": [
        "y"
      ],
      "execution_count": 26,
      "outputs": [
        {
          "output_type": "execute_result",
          "data": {
            "text/plain": [
              "array([38, 18, 22, 10, 10, 23, 35, 39, 23,  2])"
            ]
          },
          "metadata": {
            "tags": []
          },
          "execution_count": 26
        }
      ]
    },
    {
      "cell_type": "code",
      "metadata": {
        "id": "DoXJqoVZ2J2l",
        "colab_type": "code",
        "outputId": "4f30237c-b9e9-4303-b8f9-f20e008772f5",
        "colab": {
          "base_uri": "https://localhost:8080/",
          "height": 0
        }
      },
      "source": [
        "x.shape"
      ],
      "execution_count": 27,
      "outputs": [
        {
          "output_type": "execute_result",
          "data": {
            "text/plain": [
              "(25,)"
            ]
          },
          "metadata": {
            "tags": []
          },
          "execution_count": 27
        }
      ]
    },
    {
      "cell_type": "code",
      "metadata": {
        "id": "O3pddrgK2NrW",
        "colab_type": "code",
        "outputId": "b45b707b-44e9-4270-bbb3-5e338b69477c",
        "colab": {
          "base_uri": "https://localhost:8080/",
          "height": 0
        }
      },
      "source": [
        "x.reshape(5,5) # Dimensions have to make sense"
      ],
      "execution_count": 28,
      "outputs": [
        {
          "output_type": "execute_result",
          "data": {
            "text/plain": [
              "array([[ 0,  1,  2,  3,  4],\n",
              "       [ 5,  6,  7,  8,  9],\n",
              "       [10, 11, 12, 13, 14],\n",
              "       [15, 16, 17, 18, 19],\n",
              "       [20, 21, 22, 23, 24]])"
            ]
          },
          "metadata": {
            "tags": []
          },
          "execution_count": 28
        }
      ]
    },
    {
      "cell_type": "code",
      "metadata": {
        "id": "HZAoxiH22RHQ",
        "colab_type": "code",
        "outputId": "83064dad-cbf4-4978-c98a-7a5b80419203",
        "colab": {
          "base_uri": "https://localhost:8080/",
          "height": 0
        }
      },
      "source": [
        "y"
      ],
      "execution_count": 29,
      "outputs": [
        {
          "output_type": "execute_result",
          "data": {
            "text/plain": [
              "array([38, 18, 22, 10, 10, 23, 35, 39, 23,  2])"
            ]
          },
          "metadata": {
            "tags": []
          },
          "execution_count": 29
        }
      ]
    },
    {
      "cell_type": "code",
      "metadata": {
        "id": "pr_dfdwY2THr",
        "colab_type": "code",
        "outputId": "54411cff-89ed-48f7-b858-b3424a4620a7",
        "colab": {
          "base_uri": "https://localhost:8080/",
          "height": 0
        }
      },
      "source": [
        "y.max()"
      ],
      "execution_count": 30,
      "outputs": [
        {
          "output_type": "execute_result",
          "data": {
            "text/plain": [
              "39"
            ]
          },
          "metadata": {
            "tags": []
          },
          "execution_count": 30
        }
      ]
    },
    {
      "cell_type": "code",
      "metadata": {
        "id": "d0SyYN8L2eDj",
        "colab_type": "code",
        "outputId": "95b9e5be-f706-47be-dd2c-2271742c4f67",
        "colab": {
          "base_uri": "https://localhost:8080/",
          "height": 0
        }
      },
      "source": [
        "y.argmax()"
      ],
      "execution_count": 31,
      "outputs": [
        {
          "output_type": "execute_result",
          "data": {
            "text/plain": [
              "7"
            ]
          },
          "metadata": {
            "tags": []
          },
          "execution_count": 31
        }
      ]
    },
    {
      "cell_type": "code",
      "metadata": {
        "id": "GBHikul42gI9",
        "colab_type": "code",
        "outputId": "45996c20-3d3b-4083-821f-8d3ca4e2fa40",
        "colab": {
          "base_uri": "https://localhost:8080/",
          "height": 0
        }
      },
      "source": [
        "y[7]"
      ],
      "execution_count": 32,
      "outputs": [
        {
          "output_type": "execute_result",
          "data": {
            "text/plain": [
              "39"
            ]
          },
          "metadata": {
            "tags": []
          },
          "execution_count": 32
        }
      ]
    },
    {
      "cell_type": "code",
      "metadata": {
        "id": "qiuuS75G2hSr",
        "colab_type": "code",
        "outputId": "94ef1ebf-1a25-4b01-a60f-6420d08095a1",
        "colab": {
          "base_uri": "https://localhost:8080/",
          "height": 0
        }
      },
      "source": [
        "y.dtype"
      ],
      "execution_count": 33,
      "outputs": [
        {
          "output_type": "execute_result",
          "data": {
            "text/plain": [
              "dtype('int64')"
            ]
          },
          "metadata": {
            "tags": []
          },
          "execution_count": 33
        }
      ]
    },
    {
      "cell_type": "markdown",
      "metadata": {
        "id": "M2uLwTGz2vYw",
        "colab_type": "text"
      },
      "source": [
        "# **Indexing and Selection**"
      ]
    },
    {
      "cell_type": "code",
      "metadata": {
        "id": "LEuhUvcR2mku",
        "colab_type": "code",
        "colab": {}
      },
      "source": [
        "x = np.arange(10,100,5)"
      ],
      "execution_count": 0,
      "outputs": []
    },
    {
      "cell_type": "code",
      "metadata": {
        "id": "8eWwpwoF28cG",
        "colab_type": "code",
        "outputId": "51dba846-9c4c-4a29-e275-62a27a2cc763",
        "colab": {
          "base_uri": "https://localhost:8080/",
          "height": 0
        }
      },
      "source": [
        "x"
      ],
      "execution_count": 35,
      "outputs": [
        {
          "output_type": "execute_result",
          "data": {
            "text/plain": [
              "array([10, 15, 20, 25, 30, 35, 40, 45, 50, 55, 60, 65, 70, 75, 80, 85, 90,\n",
              "       95])"
            ]
          },
          "metadata": {
            "tags": []
          },
          "execution_count": 35
        }
      ]
    },
    {
      "cell_type": "code",
      "metadata": {
        "id": "BWZHVR7B28_F",
        "colab_type": "code",
        "outputId": "b63d092a-b7e9-4b8a-febd-21bd1951cc3c",
        "colab": {
          "base_uri": "https://localhost:8080/",
          "height": 0
        }
      },
      "source": [
        "x[5]"
      ],
      "execution_count": 36,
      "outputs": [
        {
          "output_type": "execute_result",
          "data": {
            "text/plain": [
              "35"
            ]
          },
          "metadata": {
            "tags": []
          },
          "execution_count": 36
        }
      ]
    },
    {
      "cell_type": "code",
      "metadata": {
        "id": "BLxnNasp2-qM",
        "colab_type": "code",
        "outputId": "0ff543ad-33dd-4d94-d683-5c514c4a5696",
        "colab": {
          "base_uri": "https://localhost:8080/",
          "height": 0
        }
      },
      "source": [
        "x[5:10]"
      ],
      "execution_count": 37,
      "outputs": [
        {
          "output_type": "execute_result",
          "data": {
            "text/plain": [
              "array([35, 40, 45, 50, 55])"
            ]
          },
          "metadata": {
            "tags": []
          },
          "execution_count": 37
        }
      ]
    },
    {
      "cell_type": "code",
      "metadata": {
        "id": "rgn_mvUF3Aj5",
        "colab_type": "code",
        "outputId": "a051dbfc-52c4-405a-9f13-874a53411694",
        "colab": {
          "base_uri": "https://localhost:8080/",
          "height": 0
        }
      },
      "source": [
        "x[:5]"
      ],
      "execution_count": 38,
      "outputs": [
        {
          "output_type": "execute_result",
          "data": {
            "text/plain": [
              "array([10, 15, 20, 25, 30])"
            ]
          },
          "metadata": {
            "tags": []
          },
          "execution_count": 38
        }
      ]
    },
    {
      "cell_type": "code",
      "metadata": {
        "id": "1ZJwkLE43CH9",
        "colab_type": "code",
        "outputId": "927925d4-0e10-4bdc-e4df-53a6bb1de2b2",
        "colab": {
          "base_uri": "https://localhost:8080/",
          "height": 0
        }
      },
      "source": [
        "x[5:]"
      ],
      "execution_count": 39,
      "outputs": [
        {
          "output_type": "execute_result",
          "data": {
            "text/plain": [
              "array([35, 40, 45, 50, 55, 60, 65, 70, 75, 80, 85, 90, 95])"
            ]
          },
          "metadata": {
            "tags": []
          },
          "execution_count": 39
        }
      ]
    },
    {
      "cell_type": "markdown",
      "metadata": {
        "id": "8X2VG47M3K13",
        "colab_type": "text"
      },
      "source": [
        "## **Broadcasting**"
      ]
    },
    {
      "cell_type": "code",
      "metadata": {
        "id": "RCakGu-g3JW-",
        "colab_type": "code",
        "outputId": "854546ce-e47d-47d6-ae15-4933b8016fcd",
        "colab": {
          "base_uri": "https://localhost:8080/",
          "height": 0
        }
      },
      "source": [
        "x"
      ],
      "execution_count": 40,
      "outputs": [
        {
          "output_type": "execute_result",
          "data": {
            "text/plain": [
              "array([10, 15, 20, 25, 30, 35, 40, 45, 50, 55, 60, 65, 70, 75, 80, 85, 90,\n",
              "       95])"
            ]
          },
          "metadata": {
            "tags": []
          },
          "execution_count": 40
        }
      ]
    },
    {
      "cell_type": "code",
      "metadata": {
        "id": "YDpUm7kW3R9L",
        "colab_type": "code",
        "colab": {}
      },
      "source": [
        "x[0:5] = 100"
      ],
      "execution_count": 0,
      "outputs": []
    },
    {
      "cell_type": "code",
      "metadata": {
        "id": "vf8nFcP-3UXk",
        "colab_type": "code",
        "outputId": "07a5dcc2-d969-40f5-cde1-a2d49abde51f",
        "colab": {
          "base_uri": "https://localhost:8080/",
          "height": 0
        }
      },
      "source": [
        "x"
      ],
      "execution_count": 42,
      "outputs": [
        {
          "output_type": "execute_result",
          "data": {
            "text/plain": [
              "array([100, 100, 100, 100, 100,  35,  40,  45,  50,  55,  60,  65,  70,\n",
              "        75,  80,  85,  90,  95])"
            ]
          },
          "metadata": {
            "tags": []
          },
          "execution_count": 42
        }
      ]
    },
    {
      "cell_type": "code",
      "metadata": {
        "id": "-nHqy7cu3U7O",
        "colab_type": "code",
        "colab": {}
      },
      "source": [
        "x = np.arange(10,100,5)"
      ],
      "execution_count": 0,
      "outputs": []
    },
    {
      "cell_type": "code",
      "metadata": {
        "id": "j1qZlRhb3atY",
        "colab_type": "code",
        "outputId": "19f2458c-9ef2-40a9-847a-7c2301864efa",
        "colab": {
          "base_uri": "https://localhost:8080/",
          "height": 0
        }
      },
      "source": [
        "x"
      ],
      "execution_count": 44,
      "outputs": [
        {
          "output_type": "execute_result",
          "data": {
            "text/plain": [
              "array([10, 15, 20, 25, 30, 35, 40, 45, 50, 55, 60, 65, 70, 75, 80, 85, 90,\n",
              "       95])"
            ]
          },
          "metadata": {
            "tags": []
          },
          "execution_count": 44
        }
      ]
    },
    {
      "cell_type": "code",
      "metadata": {
        "id": "AWgoEVx23bgx",
        "colab_type": "code",
        "colab": {}
      },
      "source": [
        "x_slice = x[1:5]"
      ],
      "execution_count": 0,
      "outputs": []
    },
    {
      "cell_type": "code",
      "metadata": {
        "id": "B4Etguez3jHo",
        "colab_type": "code",
        "outputId": "d324bf94-2e3c-45a3-9b45-7f288ea12201",
        "colab": {
          "base_uri": "https://localhost:8080/",
          "height": 0
        }
      },
      "source": [
        "x_slice"
      ],
      "execution_count": 46,
      "outputs": [
        {
          "output_type": "execute_result",
          "data": {
            "text/plain": [
              "array([15, 20, 25, 30])"
            ]
          },
          "metadata": {
            "tags": []
          },
          "execution_count": 46
        }
      ]
    },
    {
      "cell_type": "code",
      "metadata": {
        "id": "I-4Vf9jZ3kMV",
        "colab_type": "code",
        "outputId": "589362ef-06fc-40f5-b009-e34011d59c6b",
        "colab": {
          "base_uri": "https://localhost:8080/",
          "height": 0
        }
      },
      "source": [
        "x"
      ],
      "execution_count": 47,
      "outputs": [
        {
          "output_type": "execute_result",
          "data": {
            "text/plain": [
              "array([10, 15, 20, 25, 30, 35, 40, 45, 50, 55, 60, 65, 70, 75, 80, 85, 90,\n",
              "       95])"
            ]
          },
          "metadata": {
            "tags": []
          },
          "execution_count": 47
        }
      ]
    },
    {
      "cell_type": "code",
      "metadata": {
        "id": "Q2to2Uj-3ko2",
        "colab_type": "code",
        "colab": {}
      },
      "source": [
        "x_slice[:] = 1996"
      ],
      "execution_count": 0,
      "outputs": []
    },
    {
      "cell_type": "code",
      "metadata": {
        "id": "bCXZDTQi3q4Z",
        "colab_type": "code",
        "outputId": "d0b8ed73-929d-4d9d-ce6f-4faf0ae5db46",
        "colab": {
          "base_uri": "https://localhost:8080/",
          "height": 0
        }
      },
      "source": [
        "x_slice"
      ],
      "execution_count": 49,
      "outputs": [
        {
          "output_type": "execute_result",
          "data": {
            "text/plain": [
              "array([1996, 1996, 1996, 1996])"
            ]
          },
          "metadata": {
            "tags": []
          },
          "execution_count": 49
        }
      ]
    },
    {
      "cell_type": "code",
      "metadata": {
        "id": "ca8G1fnG30a_",
        "colab_type": "code",
        "outputId": "12f29010-ec27-48b3-c01a-f66ce9c4573c",
        "colab": {
          "base_uri": "https://localhost:8080/",
          "height": 0
        }
      },
      "source": [
        "x"
      ],
      "execution_count": 50,
      "outputs": [
        {
          "output_type": "execute_result",
          "data": {
            "text/plain": [
              "array([  10, 1996, 1996, 1996, 1996,   35,   40,   45,   50,   55,   60,\n",
              "         65,   70,   75,   80,   85,   90,   95])"
            ]
          },
          "metadata": {
            "tags": []
          },
          "execution_count": 50
        }
      ]
    },
    {
      "cell_type": "code",
      "metadata": {
        "id": "ITtN9l6P31K_",
        "colab_type": "code",
        "colab": {}
      },
      "source": [
        "x_copy = x.copy()"
      ],
      "execution_count": 0,
      "outputs": []
    },
    {
      "cell_type": "code",
      "metadata": {
        "id": "iu0zpP1N3-fo",
        "colab_type": "code",
        "colab": {}
      },
      "source": [
        "x_copy[:] = 1996"
      ],
      "execution_count": 0,
      "outputs": []
    },
    {
      "cell_type": "code",
      "metadata": {
        "id": "fW9yAtkn4BOz",
        "colab_type": "code",
        "outputId": "d7544233-232f-4876-c71c-6b9638a89f7a",
        "colab": {
          "base_uri": "https://localhost:8080/",
          "height": 0
        }
      },
      "source": [
        "x_copy"
      ],
      "execution_count": 53,
      "outputs": [
        {
          "output_type": "execute_result",
          "data": {
            "text/plain": [
              "array([1996, 1996, 1996, 1996, 1996, 1996, 1996, 1996, 1996, 1996, 1996,\n",
              "       1996, 1996, 1996, 1996, 1996, 1996, 1996])"
            ]
          },
          "metadata": {
            "tags": []
          },
          "execution_count": 53
        }
      ]
    },
    {
      "cell_type": "code",
      "metadata": {
        "id": "fcSWeAlD4B_E",
        "colab_type": "code",
        "outputId": "288eb275-24c8-4bc0-927d-b0e8a61b9f48",
        "colab": {
          "base_uri": "https://localhost:8080/",
          "height": 0
        }
      },
      "source": [
        "x"
      ],
      "execution_count": 54,
      "outputs": [
        {
          "output_type": "execute_result",
          "data": {
            "text/plain": [
              "array([  10, 1996, 1996, 1996, 1996,   35,   40,   45,   50,   55,   60,\n",
              "         65,   70,   75,   80,   85,   90,   95])"
            ]
          },
          "metadata": {
            "tags": []
          },
          "execution_count": 54
        }
      ]
    },
    {
      "cell_type": "markdown",
      "metadata": {
        "id": "KJHBVzgV4Gor",
        "colab_type": "text"
      },
      "source": [
        "## **Indexing unto the arrays/matrices**"
      ]
    },
    {
      "cell_type": "code",
      "metadata": {
        "id": "py9GtzLR4C2G",
        "colab_type": "code",
        "colab": {}
      },
      "source": [
        "x = np.arange(5,50, 5).reshape((3,3))"
      ],
      "execution_count": 0,
      "outputs": []
    },
    {
      "cell_type": "code",
      "metadata": {
        "id": "dSRRpR3K5nQN",
        "colab_type": "code",
        "outputId": "dc30a2ed-3074-41ad-c059-175567c2945f",
        "colab": {
          "base_uri": "https://localhost:8080/",
          "height": 0
        }
      },
      "source": [
        "x"
      ],
      "execution_count": 56,
      "outputs": [
        {
          "output_type": "execute_result",
          "data": {
            "text/plain": [
              "array([[ 5, 10, 15],\n",
              "       [20, 25, 30],\n",
              "       [35, 40, 45]])"
            ]
          },
          "metadata": {
            "tags": []
          },
          "execution_count": 56
        }
      ]
    },
    {
      "cell_type": "code",
      "metadata": {
        "id": "kD-wHYGj5nyM",
        "colab_type": "code",
        "outputId": "bc6d19cd-8e9f-4fa6-c370-92109cf3efcd",
        "colab": {
          "base_uri": "https://localhost:8080/",
          "height": 0
        }
      },
      "source": [
        "x.shape"
      ],
      "execution_count": 57,
      "outputs": [
        {
          "output_type": "execute_result",
          "data": {
            "text/plain": [
              "(3, 3)"
            ]
          },
          "metadata": {
            "tags": []
          },
          "execution_count": 57
        }
      ]
    },
    {
      "cell_type": "code",
      "metadata": {
        "id": "HjTldKv_5tHF",
        "colab_type": "code",
        "outputId": "9cd36768-8bc2-4906-fe24-3bf600304362",
        "colab": {
          "base_uri": "https://localhost:8080/",
          "height": 0
        }
      },
      "source": [
        "x[0]"
      ],
      "execution_count": 58,
      "outputs": [
        {
          "output_type": "execute_result",
          "data": {
            "text/plain": [
              "array([ 5, 10, 15])"
            ]
          },
          "metadata": {
            "tags": []
          },
          "execution_count": 58
        }
      ]
    },
    {
      "cell_type": "code",
      "metadata": {
        "id": "eSbFv9Tc5vD-",
        "colab_type": "code",
        "outputId": "ec0034d2-c319-4d3e-a039-b015565206fd",
        "colab": {
          "base_uri": "https://localhost:8080/",
          "height": 0
        }
      },
      "source": [
        "x[0,0]"
      ],
      "execution_count": 59,
      "outputs": [
        {
          "output_type": "execute_result",
          "data": {
            "text/plain": [
              "5"
            ]
          },
          "metadata": {
            "tags": []
          },
          "execution_count": 59
        }
      ]
    },
    {
      "cell_type": "code",
      "metadata": {
        "id": "OBlJbIno5wyW",
        "colab_type": "code",
        "outputId": "41589bc9-a4b9-4c0e-f9bd-d4584c7fadd7",
        "colab": {
          "base_uri": "https://localhost:8080/",
          "height": 0
        }
      },
      "source": [
        "x[0,:]"
      ],
      "execution_count": 60,
      "outputs": [
        {
          "output_type": "execute_result",
          "data": {
            "text/plain": [
              "array([ 5, 10, 15])"
            ]
          },
          "metadata": {
            "tags": []
          },
          "execution_count": 60
        }
      ]
    },
    {
      "cell_type": "code",
      "metadata": {
        "id": "6GV5veXh5y3J",
        "colab_type": "code",
        "outputId": "0aec96e7-aeee-48f3-92cf-8084b066b086",
        "colab": {
          "base_uri": "https://localhost:8080/",
          "height": 0
        }
      },
      "source": [
        "x[:,1]"
      ],
      "execution_count": 61,
      "outputs": [
        {
          "output_type": "execute_result",
          "data": {
            "text/plain": [
              "array([10, 25, 40])"
            ]
          },
          "metadata": {
            "tags": []
          },
          "execution_count": 61
        }
      ]
    },
    {
      "cell_type": "code",
      "metadata": {
        "id": "QQfXm8Yu51V_",
        "colab_type": "code",
        "outputId": "f1d9eaaf-7e72-4ea0-c0dc-91a4ce8d5947",
        "colab": {
          "base_uri": "https://localhost:8080/",
          "height": 0
        }
      },
      "source": [
        "x[:2,1:]"
      ],
      "execution_count": 62,
      "outputs": [
        {
          "output_type": "execute_result",
          "data": {
            "text/plain": [
              "array([[10, 15],\n",
              "       [25, 30]])"
            ]
          },
          "metadata": {
            "tags": []
          },
          "execution_count": 62
        }
      ]
    },
    {
      "cell_type": "code",
      "metadata": {
        "id": "bvSn3DLs6Fcz",
        "colab_type": "code",
        "outputId": "d80e25e6-e7c0-4517-9992-905317fc6a24",
        "colab": {
          "base_uri": "https://localhost:8080/",
          "height": 0
        }
      },
      "source": [
        "x[:2]"
      ],
      "execution_count": 63,
      "outputs": [
        {
          "output_type": "execute_result",
          "data": {
            "text/plain": [
              "array([[ 5, 10, 15],\n",
              "       [20, 25, 30]])"
            ]
          },
          "metadata": {
            "tags": []
          },
          "execution_count": 63
        }
      ]
    },
    {
      "cell_type": "markdown",
      "metadata": {
        "id": "0smFe8mm6Uht",
        "colab_type": "text"
      },
      "source": [
        "## **Conditional Selection**"
      ]
    },
    {
      "cell_type": "code",
      "metadata": {
        "id": "dxE0ixnk6M01",
        "colab_type": "code",
        "colab": {}
      },
      "source": [
        "x = np.random.randint(1,100,10)"
      ],
      "execution_count": 0,
      "outputs": []
    },
    {
      "cell_type": "code",
      "metadata": {
        "id": "Bi9H8Gyf6i3z",
        "colab_type": "code",
        "outputId": "5b49eb21-2c6b-43b8-d166-833238d4146c",
        "colab": {
          "base_uri": "https://localhost:8080/",
          "height": 0
        }
      },
      "source": [
        "x"
      ],
      "execution_count": 65,
      "outputs": [
        {
          "output_type": "execute_result",
          "data": {
            "text/plain": [
              "array([22, 53,  2, 88, 30, 38,  2, 64, 60, 21])"
            ]
          },
          "metadata": {
            "tags": []
          },
          "execution_count": 65
        }
      ]
    },
    {
      "cell_type": "code",
      "metadata": {
        "id": "55A5PUXt6oaW",
        "colab_type": "code",
        "outputId": "5d6a3742-051c-4d0f-963c-af5f40342631",
        "colab": {
          "base_uri": "https://localhost:8080/",
          "height": 0
        }
      },
      "source": [
        "x < 50"
      ],
      "execution_count": 66,
      "outputs": [
        {
          "output_type": "execute_result",
          "data": {
            "text/plain": [
              "array([ True, False,  True, False,  True,  True,  True, False, False,\n",
              "        True])"
            ]
          },
          "metadata": {
            "tags": []
          },
          "execution_count": 66
        }
      ]
    },
    {
      "cell_type": "code",
      "metadata": {
        "id": "N4ku-pjS6upJ",
        "colab_type": "code",
        "outputId": "b8f8bc03-4de7-4d06-d2b3-61e34ba8ada0",
        "colab": {
          "base_uri": "https://localhost:8080/",
          "height": 0
        }
      },
      "source": [
        "x[x<50]"
      ],
      "execution_count": 67,
      "outputs": [
        {
          "output_type": "execute_result",
          "data": {
            "text/plain": [
              "array([22,  2, 30, 38,  2, 21])"
            ]
          },
          "metadata": {
            "tags": []
          },
          "execution_count": 67
        }
      ]
    },
    {
      "cell_type": "markdown",
      "metadata": {
        "id": "3Wv9T7287Yy9",
        "colab_type": "text"
      },
      "source": [
        "# **Operations**"
      ]
    },
    {
      "cell_type": "code",
      "metadata": {
        "id": "UGcNt2Rt65K4",
        "colab_type": "code",
        "colab": {}
      },
      "source": [
        "x = np.arange(0, 25, 3)"
      ],
      "execution_count": 0,
      "outputs": []
    },
    {
      "cell_type": "code",
      "metadata": {
        "id": "E0p0iLas7gyp",
        "colab_type": "code",
        "outputId": "435fa220-d311-4775-86bc-6d2844e0e7ca",
        "colab": {
          "base_uri": "https://localhost:8080/",
          "height": 34
        }
      },
      "source": [
        "x"
      ],
      "execution_count": 69,
      "outputs": [
        {
          "output_type": "execute_result",
          "data": {
            "text/plain": [
              "array([ 0,  3,  6,  9, 12, 15, 18, 21, 24])"
            ]
          },
          "metadata": {
            "tags": []
          },
          "execution_count": 69
        }
      ]
    },
    {
      "cell_type": "code",
      "metadata": {
        "id": "EGOPMqrg7iud",
        "colab_type": "code",
        "outputId": "e4e11259-d207-4408-fe69-53f93302619f",
        "colab": {
          "base_uri": "https://localhost:8080/",
          "height": 34
        }
      },
      "source": [
        "x + 5 "
      ],
      "execution_count": 70,
      "outputs": [
        {
          "output_type": "execute_result",
          "data": {
            "text/plain": [
              "array([ 5,  8, 11, 14, 17, 20, 23, 26, 29])"
            ]
          },
          "metadata": {
            "tags": []
          },
          "execution_count": 70
        }
      ]
    },
    {
      "cell_type": "code",
      "metadata": {
        "id": "Gr3vvDgb7lre",
        "colab_type": "code",
        "outputId": "468dc040-b87f-42f4-b5bb-84c7f6336a2d",
        "colab": {
          "base_uri": "https://localhost:8080/",
          "height": 34
        }
      },
      "source": [
        "x + x"
      ],
      "execution_count": 71,
      "outputs": [
        {
          "output_type": "execute_result",
          "data": {
            "text/plain": [
              "array([ 0,  6, 12, 18, 24, 30, 36, 42, 48])"
            ]
          },
          "metadata": {
            "tags": []
          },
          "execution_count": 71
        }
      ]
    },
    {
      "cell_type": "code",
      "metadata": {
        "id": "jYnRI4Kz7uMH",
        "colab_type": "code",
        "outputId": "f7c1f9f6-8dde-4f29-f21d-0714a25779b0",
        "colab": {
          "base_uri": "https://localhost:8080/",
          "height": 34
        }
      },
      "source": [
        "x + 2*x"
      ],
      "execution_count": 72,
      "outputs": [
        {
          "output_type": "execute_result",
          "data": {
            "text/plain": [
              "array([ 0,  9, 18, 27, 36, 45, 54, 63, 72])"
            ]
          },
          "metadata": {
            "tags": []
          },
          "execution_count": 72
        }
      ]
    },
    {
      "cell_type": "code",
      "metadata": {
        "id": "Mtp89DaN7wri",
        "colab_type": "code",
        "outputId": "26febf63-26df-4992-faae-04818ae1ac0d",
        "colab": {
          "base_uri": "https://localhost:8080/",
          "height": 50
        }
      },
      "source": [
        "np.sqrt(x)"
      ],
      "execution_count": 73,
      "outputs": [
        {
          "output_type": "execute_result",
          "data": {
            "text/plain": [
              "array([0.        , 1.73205081, 2.44948974, 3.        , 3.46410162,\n",
              "       3.87298335, 4.24264069, 4.58257569, 4.89897949])"
            ]
          },
          "metadata": {
            "tags": []
          },
          "execution_count": 73
        }
      ]
    },
    {
      "cell_type": "code",
      "metadata": {
        "id": "a1qXQ0YI8Ir6",
        "colab_type": "code",
        "outputId": "5e7032d9-80df-49a9-b55c-99f5ab75deb1",
        "colab": {
          "base_uri": "https://localhost:8080/",
          "height": 50
        }
      },
      "source": [
        "np.sin(x)"
      ],
      "execution_count": 74,
      "outputs": [
        {
          "output_type": "execute_result",
          "data": {
            "text/plain": [
              "array([ 0.        ,  0.14112001, -0.2794155 ,  0.41211849, -0.53657292,\n",
              "        0.65028784, -0.75098725,  0.83665564, -0.90557836])"
            ]
          },
          "metadata": {
            "tags": []
          },
          "execution_count": 74
        }
      ]
    },
    {
      "cell_type": "code",
      "metadata": {
        "id": "bNW6Okf88KfG",
        "colab_type": "code",
        "outputId": "03ec28d3-f279-45a0-d1d1-0859dd4a5d2d",
        "colab": {
          "base_uri": "https://localhost:8080/",
          "height": 34
        }
      },
      "source": [
        "np.square(x)"
      ],
      "execution_count": 75,
      "outputs": [
        {
          "output_type": "execute_result",
          "data": {
            "text/plain": [
              "array([  0,   9,  36,  81, 144, 225, 324, 441, 576])"
            ]
          },
          "metadata": {
            "tags": []
          },
          "execution_count": 75
        }
      ]
    },
    {
      "cell_type": "code",
      "metadata": {
        "id": "jYJ4GzRV8N68",
        "colab_type": "code",
        "outputId": "b6662ea8-4208-4253-edca-180f5917e4e8",
        "colab": {
          "base_uri": "https://localhost:8080/",
          "height": 34
        }
      },
      "source": [
        "x"
      ],
      "execution_count": 76,
      "outputs": [
        {
          "output_type": "execute_result",
          "data": {
            "text/plain": [
              "array([ 0,  3,  6,  9, 12, 15, 18, 21, 24])"
            ]
          },
          "metadata": {
            "tags": []
          },
          "execution_count": 76
        }
      ]
    },
    {
      "cell_type": "code",
      "metadata": {
        "id": "LYdupvsG8Suf",
        "colab_type": "code",
        "outputId": "a11158db-4eca-458f-cb8c-e9d150769ff0",
        "colab": {
          "base_uri": "https://localhost:8080/",
          "height": 34
        }
      },
      "source": [
        "x.sum()"
      ],
      "execution_count": 77,
      "outputs": [
        {
          "output_type": "execute_result",
          "data": {
            "text/plain": [
              "108"
            ]
          },
          "metadata": {
            "tags": []
          },
          "execution_count": 77
        }
      ]
    },
    {
      "cell_type": "code",
      "metadata": {
        "id": "D1QFytRA8T6u",
        "colab_type": "code",
        "outputId": "ad5fda11-22b0-47b2-aa48-d7b31246193a",
        "colab": {
          "base_uri": "https://localhost:8080/",
          "height": 34
        }
      },
      "source": [
        "np.sum(x)"
      ],
      "execution_count": 78,
      "outputs": [
        {
          "output_type": "execute_result",
          "data": {
            "text/plain": [
              "108"
            ]
          },
          "metadata": {
            "tags": []
          },
          "execution_count": 78
        }
      ]
    },
    {
      "cell_type": "code",
      "metadata": {
        "id": "54_q98FX8U7Q",
        "colab_type": "code",
        "outputId": "978f6aa1-807f-4152-a4c4-853b2be094fd",
        "colab": {
          "base_uri": "https://localhost:8080/",
          "height": 34
        }
      },
      "source": [
        "x.var()"
      ],
      "execution_count": 79,
      "outputs": [
        {
          "output_type": "execute_result",
          "data": {
            "text/plain": [
              "60.0"
            ]
          },
          "metadata": {
            "tags": []
          },
          "execution_count": 79
        }
      ]
    },
    {
      "cell_type": "code",
      "metadata": {
        "id": "jyVFa-fZ8Y1j",
        "colab_type": "code",
        "outputId": "48badba8-46c8-4206-fd64-3f9a22831ded",
        "colab": {
          "base_uri": "https://localhost:8080/",
          "height": 34
        }
      },
      "source": [
        "x.std()"
      ],
      "execution_count": 80,
      "outputs": [
        {
          "output_type": "execute_result",
          "data": {
            "text/plain": [
              "7.745966692414834"
            ]
          },
          "metadata": {
            "tags": []
          },
          "execution_count": 80
        }
      ]
    },
    {
      "cell_type": "code",
      "metadata": {
        "id": "GVFzC5Vz8cH2",
        "colab_type": "code",
        "outputId": "0b447aad-1e07-4d29-d041-78045f507573",
        "colab": {
          "base_uri": "https://localhost:8080/",
          "height": 34
        }
      },
      "source": [
        "x.mean()"
      ],
      "execution_count": 81,
      "outputs": [
        {
          "output_type": "execute_result",
          "data": {
            "text/plain": [
              "12.0"
            ]
          },
          "metadata": {
            "tags": []
          },
          "execution_count": 81
        }
      ]
    },
    {
      "cell_type": "code",
      "metadata": {
        "id": "uN2jyp-t8gB3",
        "colab_type": "code",
        "colab": {}
      },
      "source": [
        "x = x.reshape((3,3))"
      ],
      "execution_count": 0,
      "outputs": []
    },
    {
      "cell_type": "code",
      "metadata": {
        "id": "KTWuqxo28mRJ",
        "colab_type": "code",
        "outputId": "d7b5a6ae-720d-4c06-d2a7-5cf64e32f979",
        "colab": {
          "base_uri": "https://localhost:8080/",
          "height": 67
        }
      },
      "source": [
        "x"
      ],
      "execution_count": 83,
      "outputs": [
        {
          "output_type": "execute_result",
          "data": {
            "text/plain": [
              "array([[ 0,  3,  6],\n",
              "       [ 9, 12, 15],\n",
              "       [18, 21, 24]])"
            ]
          },
          "metadata": {
            "tags": []
          },
          "execution_count": 83
        }
      ]
    },
    {
      "cell_type": "code",
      "metadata": {
        "id": "HVmPSLh68p8Z",
        "colab_type": "code",
        "outputId": "ea442c9e-05af-4cbf-b96e-7d38b85ade6b",
        "colab": {
          "base_uri": "https://localhost:8080/",
          "height": 34
        }
      },
      "source": [
        "x.shape"
      ],
      "execution_count": 84,
      "outputs": [
        {
          "output_type": "execute_result",
          "data": {
            "text/plain": [
              "(3, 3)"
            ]
          },
          "metadata": {
            "tags": []
          },
          "execution_count": 84
        }
      ]
    },
    {
      "cell_type": "code",
      "metadata": {
        "id": "5G-6C9k18q1d",
        "colab_type": "code",
        "outputId": "ff25dc07-fb10-4d22-9357-8a136e7de699",
        "colab": {
          "base_uri": "https://localhost:8080/",
          "height": 34
        }
      },
      "source": [
        "x.sum()"
      ],
      "execution_count": 85,
      "outputs": [
        {
          "output_type": "execute_result",
          "data": {
            "text/plain": [
              "108"
            ]
          },
          "metadata": {
            "tags": []
          },
          "execution_count": 85
        }
      ]
    },
    {
      "cell_type": "code",
      "metadata": {
        "id": "Tb7mbEwp8syF",
        "colab_type": "code",
        "outputId": "74016e1c-18e4-4a1e-9759-484606172fe0",
        "colab": {
          "base_uri": "https://localhost:8080/",
          "height": 34
        }
      },
      "source": [
        "x.sum(axis = 0) # ACROSS rows or sum of columns"
      ],
      "execution_count": 86,
      "outputs": [
        {
          "output_type": "execute_result",
          "data": {
            "text/plain": [
              "array([27, 36, 45])"
            ]
          },
          "metadata": {
            "tags": []
          },
          "execution_count": 86
        }
      ]
    },
    {
      "cell_type": "code",
      "metadata": {
        "id": "a6qUtCV98xjd",
        "colab_type": "code",
        "outputId": "4cdf98fa-1ced-4cd6-ad10-5532742701ab",
        "colab": {
          "base_uri": "https://localhost:8080/",
          "height": 34
        }
      },
      "source": [
        "x.sum(axis = 1) # ACROSS columns or sum of rows"
      ],
      "execution_count": 87,
      "outputs": [
        {
          "output_type": "execute_result",
          "data": {
            "text/plain": [
              "array([ 9, 36, 63])"
            ]
          },
          "metadata": {
            "tags": []
          },
          "execution_count": 87
        }
      ]
    }
  ]
}